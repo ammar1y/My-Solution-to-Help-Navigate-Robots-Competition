{
 "cells": [
  {
   "cell_type": "code",
   "execution_count": null,
   "metadata": {},
   "outputs": [],
   "source": [
    "import pandas as pd\n",
    "import numpy as np\n",
    "from matplotlib import pyplot as plt\n",
    "import seaborn as sns\n",
    "import lightgbm as lgb\n",
    "import gc\n",
    "import scipy.signal as signal\n",
    "import scipy.stats as stats\n",
    "import time\n",
    "import warnings\n",
    "from tsfresh import extract_relevant_features, extract_features, select_features\n",
    "from tsfresh.utilities.dataframe_functions import impute\n",
    "\n",
    "warnings.filterwarnings('ignore')\n",
    "pd.set_option(\"max_columns\", 200)\n",
    "pd.set_option(\"max_rows\", 200)\n",
    "gc.enable()"
   ]
  },
  {
   "cell_type": "code",
   "execution_count": null,
   "metadata": {},
   "outputs": [],
   "source": [
    "x_train = pd.read_csv('../input/X_train.csv')\n",
    "y_train = pd.read_csv('../input/y_train.csv')\n",
    "x_test = pd.read_csv('../input/X_test.csv')"
   ]
  },
  {
   "cell_type": "code",
   "execution_count": null,
   "metadata": {},
   "outputs": [],
   "source": [
    "print(x_train.shape)\n",
    "x_train.head(10)"
   ]
  },
  {
   "cell_type": "code",
   "execution_count": null,
   "metadata": {},
   "outputs": [],
   "source": [
    "print(y_train.shape)\n",
    "y_train.head()"
   ]
  },
  {
   "cell_type": "code",
   "execution_count": null,
   "metadata": {},
   "outputs": [],
   "source": [
    "y_train.surface.unique()"
   ]
  },
  {
   "cell_type": "code",
   "execution_count": null,
   "metadata": {},
   "outputs": [],
   "source": [
    "tsfresh_train = extract_features(x_train.drop('row_id', axis=1), column_id='series_id', \n",
    "                                 column_sort='measurement_number')\n",
    "impute(tsfresh_train);"
   ]
  },
  {
   "cell_type": "code",
   "execution_count": null,
   "metadata": {},
   "outputs": [],
   "source": [
    "relevant_train_features = set()\n",
    "for label in y_train['surface'].unique():\n",
    "    y_train_binary = (y_train['surface'].values == label).astype(int)\n",
    "    print('=='*20); print(y_train_binary); print('=='*20);\n",
    "    X_train_filtered = select_features(tsfresh_train, y_train_binary, fdr_level=0.382)\n",
    "    print('=='*20);\n",
    "    print(\"Number of relevant features for class {}: {}/{}\".format(\n",
    "        label, X_train_filtered.shape[1], tsfresh_train.shape[1]))\n",
    "    print('=='*20);\n",
    "    relevant_train_features = relevant_train_features.union(set(X_train_filtered.columns))"
   ]
  },
  {
   "cell_type": "code",
   "execution_count": null,
   "metadata": {},
   "outputs": [],
   "source": [
    "tsfresh_test = extract_features(x_test.drop('row_id', axis=1), column_id='series_id', \n",
    "                                column_sort='measurement_number')\n",
    "impute(tsfresh_test);\n"
   ]
  },
  {
   "cell_type": "code",
   "execution_count": null,
   "metadata": {},
   "outputs": [],
   "source": [
    "len(relevant_train_features)"
   ]
  },
  {
   "cell_type": "code",
   "execution_count": null,
   "metadata": {},
   "outputs": [],
   "source": [
    "tsfresh_train = tsfresh_train[list(relevant_train_features)]\n",
    "tsfresh_test = tsfresh_test[list(relevant_train_features)]"
   ]
  },
  {
   "cell_type": "code",
   "execution_count": null,
   "metadata": {},
   "outputs": [],
   "source": [
    "print(tsfresh_train.shape)\n",
    "tsfresh_test.head()"
   ]
  },
  {
   "cell_type": "code",
   "execution_count": null,
   "metadata": {},
   "outputs": [],
   "source": [
    "fac_surfaces, surfaces = y_train['surface'].factorize()\n",
    "train_data = lgb.Dataset(tsfresh_train, label=fac_surfaces)\n",
    "params={'learning_rate': 0.1, 'objective':'multiclass', 'metric':'multi_error', \n",
    "        'num_class':9, 'verbose': 1, 'random_state':311,\n",
    "        'bagging_fraction': 0.7, 'feature_fraction': 1.0}\n",
    "num_round = 15000\n",
    "light = lgb.train(params, train_data, num_round)\n",
    "pred = light.predict(tsfresh_test)\n",
    "feature_importances = light.feature_importance()\n",
    "feature_names = tsfresh_test.columns.values"
   ]
  },
  {
   "cell_type": "code",
   "execution_count": null,
   "metadata": {},
   "outputs": [],
   "source": [
    "pred[:,0].shape\n",
    "fac_surfaces, surfaces = y_train['surface'].factorize()\n",
    "final_pred = pd.Series(np.argmax(pred, axis=1))\n",
    "surface_dict = {}\n",
    "for n, s in enumerate(surfaces):\n",
    "    surface_dict[n] = s\n",
    "final_pred = final_pred.map(surface_dict)"
   ]
  },
  {
   "cell_type": "code",
   "execution_count": null,
   "metadata": {},
   "outputs": [],
   "source": [
    "submission = pd.DataFrame({\n",
    "        \"series_id\": list(range(3816)),\n",
    "        \"target\": final_pred\n",
    "})\n",
    "\n",
    "submission.to_csv('submission.csv', index=False)"
   ]
  },
  {
   "cell_type": "code",
   "execution_count": null,
   "metadata": {},
   "outputs": [],
   "source": []
  },
  {
   "cell_type": "code",
   "execution_count": null,
   "metadata": {},
   "outputs": [],
   "source": []
  },
  {
   "cell_type": "code",
   "execution_count": null,
   "metadata": {},
   "outputs": [],
   "source": []
  },
  {
   "cell_type": "code",
   "execution_count": null,
   "metadata": {},
   "outputs": [],
   "source": []
  },
  {
   "cell_type": "code",
   "execution_count": null,
   "metadata": {},
   "outputs": [],
   "source": []
  }
 ],
 "metadata": {
  "kernelspec": {
   "display_name": "Python 3",
   "language": "python",
   "name": "python3"
  },
  "language_info": {
   "codemirror_mode": {
    "name": "ipython",
    "version": 3
   },
   "file_extension": ".py",
   "mimetype": "text/x-python",
   "name": "python",
   "nbconvert_exporter": "python",
   "pygments_lexer": "ipython3",
   "version": "3.7.3"
  }
 },
 "nbformat": 4,
 "nbformat_minor": 2
}
